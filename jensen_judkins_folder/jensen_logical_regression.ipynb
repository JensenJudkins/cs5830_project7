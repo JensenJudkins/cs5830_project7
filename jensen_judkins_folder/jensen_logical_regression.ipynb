{
 "cells": [
  {
   "cell_type": "markdown",
   "metadata": {},
   "source": [
    "Jensen Judkins - Analysis on \n",
    "\n",
    "Dataset: https://www.kaggle.com/datasets/yanmaksi/big-startup-secsees-fail-dataset-from-crunchbase"
   ]
  },
  {
   "cell_type": "markdown",
   "metadata": {},
   "source": []
  },
  {
   "cell_type": "code",
   "execution_count": null,
   "metadata": {},
   "outputs": [],
   "source": [
    "#Imports\n",
    "import pandas as pd\n",
    "import numpy as np\n",
    "from sklearn.model_selection import train_test_split, cross_val_score\n",
    "from sklearn.preprocessing import LabelEncoder, StandardScaler\n",
    "from sklearn.linear_model import LogisticRegression\n",
    "from sklearn.svm import SVC\n",
    "from sklearn.metrics import classification_report\n",
    "import matplotlib.pyplot as plt\n",
    "import seaborn as sns\n",
    "from sklearn.linear_model import LinearRegression\n"
   ]
  },
  {
   "cell_type": "markdown",
   "metadata": {},
   "source": [
    "Below is loading the dataset and just getting a grasp of what we can do with some of the categorical data. Below is a bar plot of the number of successful and failed startups and their respective business category."
   ]
  },
  {
   "cell_type": "code",
   "execution_count": null,
   "metadata": {},
   "outputs": [],
   "source": [
    "#Load Dataset\n",
    "df = pd.read_csv('big_startup_secsees_dataset.csv')\n",
    "#display(df.head())\n",
    "\n",
    "#Remove founded_at first_funding_at last_funding_at columns\n",
    "df = df.drop('founded_at', axis=1)\n",
    "df = df.drop('first_funding_at', axis=1)\n",
    "df = df.drop('last_funding_at', axis=1)\n",
    "\n",
    "#Change values set to - to 0 for remaining columns\n",
    "df['funding_total_usd'] = df['funding_total_usd'].replace('-', 0)\n",
    "df['funding_rounds'] = df['funding_rounds'].replace('-', 0)\n",
    "df['funding_total_usd'] = df['funding_total_usd'].replace('-', 0)\n",
    "\n"
   ]
  },
  {
   "cell_type": "code",
   "execution_count": null,
   "metadata": {},
   "outputs": [],
   "source": [
    "#Data Preprocessing\n",
    "\n",
    "#Categorical Variable columns\n",
    "#category_list, country_code, state_code,region,city\n",
    "\n",
    "#Encode categorical variables\n",
    "label_encoders = {}\n",
    "for col in ['category_list', 'country_code', 'state_code', 'region', 'city']:\n",
    "    label_encoders[col] = LabelEncoder()\n",
    "    df[col] = label_encoders[col].fit_transform(df[col])\n",
    "\n",
    "#Split data into features and target\n",
    "X = df.drop('status', axis=1)\n",
    "#X = X.drop('category_list', axis=1)\n",
    "X = X.drop('name', axis=1)\n",
    "X = X.drop('permalink', axis=1)\n",
    "X = X.drop('homepage_url', axis=1)\n",
    "\n",
    "y = df['status']\n",
    "\n",
    "#print(X.head())\n",
    "#print(y.head())\n",
    "\n"
   ]
  },
  {
   "cell_type": "code",
   "execution_count": null,
   "metadata": {},
   "outputs": [],
   "source": [
    "\n",
    "\n",
    "\n",
    "\n",
    "\n",
    "#Split data into training and testing sets\n",
    "print('Splitting data into training and testing sets...')\n",
    "X_train, X_test, y_train, y_test = train_test_split(X, y, test_size=0.2, random_state=42)\n",
    "\n",
    "#Feature scaling\n",
    "print('Feature scaling...')\n",
    "scaler = StandardScaler()\n",
    "X_train_scaled = scaler.fit_transform(X_train)\n",
    "X_test_scaled = scaler.transform(X_test)\n",
    "\n",
    "#Logistic Regression Model\n",
    "print('Training models LRM...')\n",
    "logistic_model = LogisticRegression(max_iter=1000, solver='newton-cholesky', n_jobs=-1)\n",
    "#logistic_model = LogisticRegression(max_iter=10000, n_jobs=-1)\n",
    "logistic_model.fit(X_train_scaled, y_train)\n",
    "\n",
    "#Support Vector Machine Model\n",
    "print('Training models SVMM...')\n",
    "svm_model = SVC(kernel='linear')\n",
    "svm_model.fit(X_train_scaled, y_train)\n",
    "\n",
    "\n",
    "\n",
    "\n"
   ]
  },
  {
   "cell_type": "code",
   "execution_count": null,
   "metadata": {},
   "outputs": [],
   "source": [
    "#Model Evaluation\n",
    "# Model evaluation\n",
    "print(\"NOTE: 0 = closed, 1 = acquired\")\n",
    "print(\"Logistic Regression:\")\n",
    "print(\"Training Accuracy:\", logistic_model.score(X_train_scaled, y_train))\n",
    "print(\"Test Accuracy:\", logistic_model.score(X_test_scaled, y_test))\n",
    "print(classification_report(y_test, logistic_model.predict(X_test_scaled), zero_division=0))\n",
    "\n"
   ]
  },
  {
   "cell_type": "code",
   "execution_count": null,
   "metadata": {},
   "outputs": [],
   "source": [
    "print(\"\\nSupport Vector Machine:\")\n",
    "print(\"Training Accuracy:\", svm_model.score(X_train_scaled, y_train))\n",
    "print(\"Test Accuracy:\", svm_model.score(X_test_scaled, y_test))\n",
    "print(classification_report(y_test, svm_model.predict(X_test_scaled), zero_division=0))\n"
   ]
  },
  {
   "cell_type": "code",
   "execution_count": null,
   "metadata": {},
   "outputs": [],
   "source": [
    "#Do the same thing again but change status values to all 0 or 1\n",
    "\n",
    "#If status is aqcuired, ipo, or operating, change to 1\n",
    "#If status is closed, change to 0\n",
    "df['status'] = df['status'].replace('acquired', 1)\n",
    "df['status'] = df['status'].replace('ipo', 1)\n",
    "df['status'] = df['status'].replace('operating', 1)\n",
    "df['status'] = df['status'].replace('closed', 0)\n",
    "\n",
    "\n",
    "y = df['status']\n",
    "\n",
    "#print(X.head())\n",
    "#print(y.head())\n"
   ]
  },
  {
   "cell_type": "code",
   "execution_count": null,
   "metadata": {},
   "outputs": [],
   "source": [
    "\n",
    "\n",
    "\n",
    "#Split data into training and testing sets\n",
    "print('Splitting data into training and testing sets...')\n",
    "X_train, X_test, y_train, y_test = train_test_split(X, y, test_size=0.2, random_state=42)\n",
    "\n",
    "#Feature scaling\n",
    "print('Feature scaling...')\n",
    "scaler = StandardScaler()\n",
    "X_train_scaled = scaler.fit_transform(X_train)\n",
    "X_test_scaled = scaler.transform(X_test)\n",
    "\n",
    "#Logistic Regression Model\n",
    "print('Training models LRM...')\n",
    "logistic_model = LogisticRegression(max_iter=1000)\n",
    "#logistic_model = LogisticRegression(max_iter=10000, n_jobs=-1)\n",
    "logistic_model.fit(X_train_scaled, y_train)\n",
    "\n",
    "#Support Vector Machine Model\n",
    "print('Training models SVMM...')\n",
    "svm_model = SVC()\n",
    "svm_model.fit(X_train_scaled, y_train)\n"
   ]
  },
  {
   "cell_type": "code",
   "execution_count": null,
   "metadata": {},
   "outputs": [],
   "source": [
    "#Model Evaluation\n",
    "# Model evaluation\n",
    "print(\"NOTE: 0 = closed, 1 = acquired\")\n",
    "print(\"Logistic Regression:\")\n",
    "print(\"Training Accuracy:\", logistic_model.score(X_train_scaled, y_train))\n",
    "print(\"Test Accuracy:\", logistic_model.score(X_test_scaled, y_test))\n",
    "print(classification_report(y_test, logistic_model.predict(X_test_scaled), zero_division=0))\n",
    "\n"
   ]
  },
  {
   "cell_type": "code",
   "execution_count": null,
   "metadata": {},
   "outputs": [],
   "source": [
    "print(\"\\nSupport Vector Machine:\")\n",
    "print(\"Training Accuracy:\", svm_model.score(X_train_scaled, y_train))\n",
    "print(\"Test Accuracy:\", svm_model.score(X_test_scaled, y_test))\n",
    "print(classification_report(y_test, svm_model.predict(X_test_scaled), zero_division=0))\n",
    "\n",
    "print()\n",
    "print()\n",
    "print('breaks here')"
   ]
  },
  {
   "cell_type": "code",
   "execution_count": null,
   "metadata": {},
   "outputs": [],
   "source": [
    "# Cross-validation\n",
    "print(\"Cross-validation...\")\n",
    "print('Logistic Regression')\n",
    "logistic_cv_score = cross_val_score(logistic_model, X, y, cv=5)\n",
    "print('Support Vector Machine')\n",
    "svm_cv_score = cross_val_score(svm_model, X, y, cv=5)\n",
    "print(\"\\nCross-validation scores:\")\n",
    "print(\"Logistic Regression:\", logistic_cv_score.mean())\n",
    "print(\"Support Vector Machine:\", svm_cv_score.mean())\n",
    "\n",
    "#Plot selected pairs of features\n",
    "#sns.pairplot(df, hue='status', vars=['state', 'industry_type', 'has_VC', 'has_angel', 'has_roundA', 'has_roundB', 'has_roundC', 'has_roundD', 'is_top500'])\n",
    "#plt.show()"
   ]
  }
 ],
 "metadata": {
  "kernelspec": {
   "display_name": "Python 3",
   "language": "python",
   "name": "python3"
  },
  "language_info": {
   "codemirror_mode": {
    "name": "ipython",
    "version": 3
   },
   "file_extension": ".py",
   "mimetype": "text/x-python",
   "name": "python",
   "nbconvert_exporter": "python",
   "pygments_lexer": "ipython3",
   "version": "3.10.12"
  }
 },
 "nbformat": 4,
 "nbformat_minor": 2
}
